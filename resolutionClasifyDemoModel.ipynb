{
 "cells": [
  {
   "cell_type": "code",
   "execution_count": 115,
   "outputs": [],
   "source": [
    "import csv\n",
    "import pandas as pd\n",
    "import gensim\n",
    "from gensim.utils import simple_preprocess\n",
    "from gensim.parsing.preprocessing import STOPWORDS\n",
    "from nltk.stem import WordNetLemmatizer, SnowballStemmer\n",
    "from nltk.stem.porter import *\n",
    "import numpy as np\n",
    "np.random.seed(2018)\n",
    "import nltk\n",
    "from nltk.tokenize import word_tokenize\n",
    "from nltk.corpus import stopwords\n"
   ],
   "metadata": {
    "collapsed": false,
    "pycharm": {
     "name": "#%%\n"
    }
   }
  },
  {
   "cell_type": "code",
   "execution_count": 116,
   "outputs": [
    {
     "data": {
      "text/plain": "                                                body  category\n0  hi since recruiter lead permission approve req...         4\n1  icon dear please setup icon per icon engineers...         6\n2  work experience user hi work experience studen...         5\n3  requesting meeting hi please help follow equip...         5\n4  re expire days hi ask help update passwords co...         4",
      "text/html": "<div>\n<style scoped>\n    .dataframe tbody tr th:only-of-type {\n        vertical-align: middle;\n    }\n\n    .dataframe tbody tr th {\n        vertical-align: top;\n    }\n\n    .dataframe thead th {\n        text-align: right;\n    }\n</style>\n<table border=\"1\" class=\"dataframe\">\n  <thead>\n    <tr style=\"text-align: right;\">\n      <th></th>\n      <th>body</th>\n      <th>category</th>\n    </tr>\n  </thead>\n  <tbody>\n    <tr>\n      <th>0</th>\n      <td>hi since recruiter lead permission approve req...</td>\n      <td>4</td>\n    </tr>\n    <tr>\n      <th>1</th>\n      <td>icon dear please setup icon per icon engineers...</td>\n      <td>6</td>\n    </tr>\n    <tr>\n      <th>2</th>\n      <td>work experience user hi work experience studen...</td>\n      <td>5</td>\n    </tr>\n    <tr>\n      <th>3</th>\n      <td>requesting meeting hi please help follow equip...</td>\n      <td>5</td>\n    </tr>\n    <tr>\n      <th>4</th>\n      <td>re expire days hi ask help update passwords co...</td>\n      <td>4</td>\n    </tr>\n  </tbody>\n</table>\n</div>"
     },
     "execution_count": 116,
     "metadata": {},
     "output_type": "execute_result"
    }
   ],
   "source": [
    "data = pd.read_csv('C:\\\\Users\\\\Eswar\\\\Downloads\\\\all_tickets.csv')\n",
    "\n",
    "#drop rows which has category as 0\n",
    "data = data[data.category != 0]\n",
    "\n",
    "#drop rows which has particular value\n",
    "data = data[data['body'].notna()]\n",
    "\n",
    "# taking\n",
    "df = data[[\"body\",\"category\"]]\n",
    "\n",
    "df.head()\n",
    "\n"
   ],
   "metadata": {
    "collapsed": false,
    "pycharm": {
     "name": "#%%\n"
    }
   }
  },
  {
   "cell_type": "code",
   "execution_count": 117,
   "outputs": [
    {
     "name": "stdout",
     "output_type": "stream",
     "text": [
      "(48545, 2)\n"
     ]
    },
    {
     "data": {
      "text/plain": "4     34061\n5      9634\n6      2628\n7       921\n11      612\n8       239\n9       191\n3       137\n1        72\n12       45\n2         3\n10        2\nName: category, dtype: int64"
     },
     "execution_count": 117,
     "metadata": {},
     "output_type": "execute_result"
    }
   ],
   "source": [
    "# checking the lables quantity\n",
    "lable_count = df['category'].value_counts()\n",
    "print(df.shape)\n",
    "lable_count"
   ],
   "metadata": {
    "collapsed": false,
    "pycharm": {
     "name": "#%%\n"
    }
   }
  },
  {
   "cell_type": "code",
   "execution_count": 118,
   "outputs": [],
   "source": [
    "# removing less featured category\n",
    "category_removal = [12,10,8,9,3,1,2]\n",
    "\n",
    "for col in category_removal:\n",
    "    df = df[df.category != col]"
   ],
   "metadata": {
    "collapsed": false,
    "pycharm": {
     "name": "#%%\n"
    }
   }
  },
  {
   "cell_type": "code",
   "execution_count": 119,
   "outputs": [
    {
     "name": "stdout",
     "output_type": "stream",
     "text": [
      "(47856, 2)\n"
     ]
    },
    {
     "data": {
      "text/plain": "4     34061\n5      9634\n6      2628\n7       921\n11      612\nName: category, dtype: int64"
     },
     "execution_count": 119,
     "metadata": {},
     "output_type": "execute_result"
    }
   ],
   "source": [
    "# checking the lables quantity\n",
    "\n",
    "lable_count = df['category'].value_counts()\n",
    "print(df.shape)\n",
    "lable_count"
   ],
   "metadata": {
    "collapsed": false,
    "pycharm": {
     "name": "#%%\n"
    }
   }
  },
  {
   "cell_type": "code",
   "execution_count": 120,
   "outputs": [],
   "source": [
    "# Balencing features\n",
    "\n",
    "main_dataframe_list = []\n",
    "for category_numbers in lable_count.keys():\n",
    "    data_frame = df.loc[df['category'] == category_numbers].iloc[0:500]\n",
    "    main_dataframe_list.append(data_frame)\n",
    "\n",
    "df = pd.concat(main_dataframe_list)"
   ],
   "metadata": {
    "collapsed": false,
    "pycharm": {
     "name": "#%%\n"
    }
   }
  },
  {
   "cell_type": "code",
   "execution_count": 121,
   "outputs": [
    {
     "data": {
      "text/plain": "4     500\n5     500\n6     500\n7     500\n11    500\nName: category, dtype: int64"
     },
     "execution_count": 121,
     "metadata": {},
     "output_type": "execute_result"
    }
   ],
   "source": [
    "df['category'].value_counts()"
   ],
   "metadata": {
    "collapsed": false,
    "pycharm": {
     "name": "#%%\n"
    }
   }
  },
  {
   "cell_type": "code",
   "execution_count": 122,
   "outputs": [
    {
     "data": {
      "text/plain": "                                                body  category\n0  hi since recruiter lead permission approve req...         4\n4  re expire days hi ask help update passwords co...         4\n5  verification warning hi has got attached pleas...         4\n6  please dear looks blacklisted receiving mails ...         4\n8  dear modules report report cost thank much reg...         4",
      "text/html": "<div>\n<style scoped>\n    .dataframe tbody tr th:only-of-type {\n        vertical-align: middle;\n    }\n\n    .dataframe tbody tr th {\n        vertical-align: top;\n    }\n\n    .dataframe thead th {\n        text-align: right;\n    }\n</style>\n<table border=\"1\" class=\"dataframe\">\n  <thead>\n    <tr style=\"text-align: right;\">\n      <th></th>\n      <th>body</th>\n      <th>category</th>\n    </tr>\n  </thead>\n  <tbody>\n    <tr>\n      <th>0</th>\n      <td>hi since recruiter lead permission approve req...</td>\n      <td>4</td>\n    </tr>\n    <tr>\n      <th>4</th>\n      <td>re expire days hi ask help update passwords co...</td>\n      <td>4</td>\n    </tr>\n    <tr>\n      <th>5</th>\n      <td>verification warning hi has got attached pleas...</td>\n      <td>4</td>\n    </tr>\n    <tr>\n      <th>6</th>\n      <td>please dear looks blacklisted receiving mails ...</td>\n      <td>4</td>\n    </tr>\n    <tr>\n      <th>8</th>\n      <td>dear modules report report cost thank much reg...</td>\n      <td>4</td>\n    </tr>\n  </tbody>\n</table>\n</div>"
     },
     "execution_count": 122,
     "metadata": {},
     "output_type": "execute_result"
    }
   ],
   "source": [
    "df.head()"
   ],
   "metadata": {
    "collapsed": false,
    "pycharm": {
     "name": "#%%\n"
    }
   }
  },
  {
   "cell_type": "code",
   "execution_count": 123,
   "outputs": [],
   "source": [
    "# Shuffling and sorting index\n",
    "\n",
    "df = df.sample(frac=1).reset_index(drop=True)"
   ],
   "metadata": {
    "collapsed": false,
    "pycharm": {
     "name": "#%%\n"
    }
   }
  },
  {
   "cell_type": "code",
   "execution_count": 124,
   "outputs": [
    {
     "data": {
      "text/plain": "                                                body  category\n0  install dear please log assign helping her ins...         5\n1  purchase po dear purchased link subscription a...         5\n2                tuesday february pm card si ca card         7\n3   board hello please add individuals black regards         4\n4  report user hi seems crack take appropriate ac...         5",
      "text/html": "<div>\n<style scoped>\n    .dataframe tbody tr th:only-of-type {\n        vertical-align: middle;\n    }\n\n    .dataframe tbody tr th {\n        vertical-align: top;\n    }\n\n    .dataframe thead th {\n        text-align: right;\n    }\n</style>\n<table border=\"1\" class=\"dataframe\">\n  <thead>\n    <tr style=\"text-align: right;\">\n      <th></th>\n      <th>body</th>\n      <th>category</th>\n    </tr>\n  </thead>\n  <tbody>\n    <tr>\n      <th>0</th>\n      <td>install dear please log assign helping her ins...</td>\n      <td>5</td>\n    </tr>\n    <tr>\n      <th>1</th>\n      <td>purchase po dear purchased link subscription a...</td>\n      <td>5</td>\n    </tr>\n    <tr>\n      <th>2</th>\n      <td>tuesday february pm card si ca card</td>\n      <td>7</td>\n    </tr>\n    <tr>\n      <th>3</th>\n      <td>board hello please add individuals black regards</td>\n      <td>4</td>\n    </tr>\n    <tr>\n      <th>4</th>\n      <td>report user hi seems crack take appropriate ac...</td>\n      <td>5</td>\n    </tr>\n  </tbody>\n</table>\n</div>"
     },
     "execution_count": 124,
     "metadata": {},
     "output_type": "execute_result"
    }
   ],
   "source": [
    "df.head()"
   ],
   "metadata": {
    "collapsed": false,
    "pycharm": {
     "name": "#%%\n"
    }
   }
  },
  {
   "cell_type": "code",
   "execution_count": 125,
   "outputs": [
    {
     "data": {
      "text/plain": "                                                   body  category\n2495                                re card hello va si         7\n2496  access card issue hi have issue with card can ...        11\n2497  allocation hello please allocate assigned temp...         5\n2498  sent monday july badge working hello there see...        11\n2499  disk problem hi more disk partition please pro...         6",
      "text/html": "<div>\n<style scoped>\n    .dataframe tbody tr th:only-of-type {\n        vertical-align: middle;\n    }\n\n    .dataframe tbody tr th {\n        vertical-align: top;\n    }\n\n    .dataframe thead th {\n        text-align: right;\n    }\n</style>\n<table border=\"1\" class=\"dataframe\">\n  <thead>\n    <tr style=\"text-align: right;\">\n      <th></th>\n      <th>body</th>\n      <th>category</th>\n    </tr>\n  </thead>\n  <tbody>\n    <tr>\n      <th>2495</th>\n      <td>re card hello va si</td>\n      <td>7</td>\n    </tr>\n    <tr>\n      <th>2496</th>\n      <td>access card issue hi have issue with card can ...</td>\n      <td>11</td>\n    </tr>\n    <tr>\n      <th>2497</th>\n      <td>allocation hello please allocate assigned temp...</td>\n      <td>5</td>\n    </tr>\n    <tr>\n      <th>2498</th>\n      <td>sent monday july badge working hello there see...</td>\n      <td>11</td>\n    </tr>\n    <tr>\n      <th>2499</th>\n      <td>disk problem hi more disk partition please pro...</td>\n      <td>6</td>\n    </tr>\n  </tbody>\n</table>\n</div>"
     },
     "execution_count": 125,
     "metadata": {},
     "output_type": "execute_result"
    }
   ],
   "source": [
    "df.tail()"
   ],
   "metadata": {
    "collapsed": false,
    "pycharm": {
     "name": "#%%\n"
    }
   }
  },
  {
   "cell_type": "markdown",
   "source": [
    "#talking the values to CSV - for observation\n",
    "\n",
    "sample = pd.concat([df.iloc[[0]]\n",
    ",df.iloc[[1]]\n",
    ",df.iloc[[2]]\n",
    ",df.iloc[[3]]\n",
    ",df.iloc[[2495]]])\n",
    "\n",
    "sample.to_csv('observe.csv')\n",
    "\n"
   ],
   "metadata": {
    "collapsed": false,
    "pycharm": {
     "name": "#%% md\n"
    }
   }
  },
  {
   "cell_type": "code",
   "execution_count": 126,
   "outputs": [],
   "source": [
    "from nltk.corpus import stopwords\n",
    "stop_words = stopwords.words('english')\n",
    "import string\n",
    "import re\n",
    "port_stemmer = nltk.PorterStemmer()\n"
   ],
   "metadata": {
    "collapsed": false,
    "pycharm": {
     "name": "#%%\n"
    }
   }
  },
  {
   "cell_type": "code",
   "execution_count": 127,
   "outputs": [],
   "source": [
    "def cleaning(text):\n",
    "\n",
    "    # punctuation removing\n",
    "    Punctuation_rm = re.sub(\"[^-9A-Za-z ]\", \"\" , text)\n",
    "\n",
    "    # creating tokens\n",
    "    tokens =  nltk.tokenize.word_tokenize(Punctuation_rm)\n",
    "\n",
    "    # Stopword removing\n",
    "    rem_text = [i for i in tokens if i not in stop_words]\n",
    "\n",
    "    stem = \" \".join([port_stemmer.stem(word) for word in rem_text])\n",
    "\n",
    "\n",
    "    return stem\n",
    "\n",
    "# remove stopwords from the text\n",
    "df['cleaned_body']= df['body'].apply(cleaning)"
   ],
   "metadata": {
    "collapsed": false,
    "pycharm": {
     "name": "#%%\n"
    }
   }
  },
  {
   "cell_type": "code",
   "execution_count": 128,
   "outputs": [
    {
     "name": "stdout",
     "output_type": "stream",
     "text": [
      "(2500, 3)\n"
     ]
    },
    {
     "data": {
      "text/plain": "                                                   body  category  \\\n2495                                re card hello va si         7   \n2496  access card issue hi have issue with card can ...        11   \n2497  allocation hello please allocate assigned temp...         5   \n2498  sent monday july badge working hello there see...        11   \n2499  disk problem hi more disk partition please pro...         6   \n\n                                           cleaned_body  \n2495                                   card hello va si  \n2496  access card issu hi issu card access locat day...  \n2497  alloc hello pleas alloc assign temporarili per...  \n2498  sent monday juli badg work hello seem kind pro...  \n2499  disk problem hi disk partit pleas provid least...  ",
      "text/html": "<div>\n<style scoped>\n    .dataframe tbody tr th:only-of-type {\n        vertical-align: middle;\n    }\n\n    .dataframe tbody tr th {\n        vertical-align: top;\n    }\n\n    .dataframe thead th {\n        text-align: right;\n    }\n</style>\n<table border=\"1\" class=\"dataframe\">\n  <thead>\n    <tr style=\"text-align: right;\">\n      <th></th>\n      <th>body</th>\n      <th>category</th>\n      <th>cleaned_body</th>\n    </tr>\n  </thead>\n  <tbody>\n    <tr>\n      <th>2495</th>\n      <td>re card hello va si</td>\n      <td>7</td>\n      <td>card hello va si</td>\n    </tr>\n    <tr>\n      <th>2496</th>\n      <td>access card issue hi have issue with card can ...</td>\n      <td>11</td>\n      <td>access card issu hi issu card access locat day...</td>\n    </tr>\n    <tr>\n      <th>2497</th>\n      <td>allocation hello please allocate assigned temp...</td>\n      <td>5</td>\n      <td>alloc hello pleas alloc assign temporarili per...</td>\n    </tr>\n    <tr>\n      <th>2498</th>\n      <td>sent monday july badge working hello there see...</td>\n      <td>11</td>\n      <td>sent monday juli badg work hello seem kind pro...</td>\n    </tr>\n    <tr>\n      <th>2499</th>\n      <td>disk problem hi more disk partition please pro...</td>\n      <td>6</td>\n      <td>disk problem hi disk partit pleas provid least...</td>\n    </tr>\n  </tbody>\n</table>\n</div>"
     },
     "execution_count": 128,
     "metadata": {},
     "output_type": "execute_result"
    }
   ],
   "source": [
    "\n",
    "\n",
    "print(df.shape)\n",
    "df.tail()"
   ],
   "metadata": {
    "collapsed": false,
    "pycharm": {
     "name": "#%%\n"
    }
   }
  },
  {
   "cell_type": "code",
   "execution_count": 129,
   "outputs": [],
   "source": [
    "#  Spliting data [ Testing , training ]\n",
    "\n",
    "X_train = df.loc[:1500, 'cleaned_body'].values\n",
    "y_train = df.loc[:1500, 'category'].values\n",
    "X_test = df.loc[1501:, 'cleaned_body'].values\n",
    "y_test = df.loc[1501:, 'category'].values"
   ],
   "metadata": {
    "collapsed": false,
    "pycharm": {
     "name": "#%%\n"
    }
   }
  },
  {
   "cell_type": "code",
   "execution_count": 130,
   "outputs": [
    {
     "name": "stdout",
     "output_type": "stream",
     "text": [
      "(1501, 2504) (999, 2504)\n"
     ]
    }
   ],
   "source": [
    "from sklearn.feature_extraction.text import TfidfTransformer\n",
    "from sklearn.feature_extraction.text import TfidfVectorizer\n",
    "vectorizer = TfidfVectorizer()\n",
    "train_vectors = vectorizer.fit_transform(X_train)\n",
    "test_vectors = vectorizer.transform(X_test)\n",
    "print(train_vectors.shape, test_vectors.shape)"
   ],
   "metadata": {
    "collapsed": false,
    "pycharm": {
     "name": "#%%\n"
    }
   }
  },
  {
   "cell_type": "code",
   "execution_count": 131,
   "outputs": [],
   "source": [
    "from sklearn.naive_bayes import MultinomialNB\n",
    "from  sklearn.metrics  import accuracy_score\n",
    "model = MultinomialNB().fit(train_vectors, y_train)"
   ],
   "metadata": {
    "collapsed": false,
    "pycharm": {
     "name": "#%%\n"
    }
   }
  },
  {
   "cell_type": "code",
   "execution_count": 132,
   "outputs": [
    {
     "name": "stdout",
     "output_type": "stream",
     "text": [
      "0.7447447447447447\n"
     ]
    }
   ],
   "source": [
    "\n",
    "predicted = model.predict(test_vectors)\n",
    "print(accuracy_score(y_test,predicted))"
   ],
   "metadata": {
    "collapsed": false,
    "pycharm": {
     "name": "#%%\n"
    }
   }
  },
  {
   "cell_type": "code",
   "execution_count": 133,
   "outputs": [],
   "source": [
    "test = ['tuesday march pm visitor cards review hi please each location where visitor cards make information control matches reality physical cards oms possession discrepancy must corrected appropriately recorded spreadsheet liaise oms each location questions please hesitate thanks']\n",
    "\n",
    "s = vectorizer.transform(test)\n",
    "\n",
    "predicted = model.predict(s)"
   ],
   "metadata": {
    "collapsed": false,
    "pycharm": {
     "name": "#%%\n"
    }
   }
  },
  {
   "cell_type": "code",
   "execution_count": 134,
   "outputs": [
    {
     "data": {
      "text/plain": "array([7], dtype=int64)"
     },
     "execution_count": 134,
     "metadata": {},
     "output_type": "execute_result"
    }
   ],
   "source": [
    "predicted"
   ],
   "metadata": {
    "collapsed": false,
    "pycharm": {
     "name": "#%%\n"
    }
   }
  },
  {
   "cell_type": "markdown",
   "source": [],
   "metadata": {
    "collapsed": false,
    "pycharm": {
     "name": "#%% md\n"
    }
   }
  },
  {
   "cell_type": "code",
   "execution_count": 136,
   "outputs": [],
   "source": [
    "# loading library\n",
    "import pickle\n",
    "\n",
    "\n",
    "# create an iterator object with write permission - model.pkl\n",
    "with open('model_pkl', 'wb') as files:\n",
    "    pickle.dump(model, files)\n",
    "\n",
    "filename = \"model_pk\"\n",
    "\n",
    "pickle.dump(model,open(filename,\"wb\"))"
   ],
   "metadata": {
    "collapsed": false,
    "pycharm": {
     "name": "#%%\n"
    }
   }
  },
  {
   "cell_type": "code",
   "execution_count": 137,
   "outputs": [],
   "source": [
    "# load saved model\n",
    "\n",
    "loadedModel = pickle.load(open(filename,\"rb\"))\n"
   ],
   "metadata": {
    "collapsed": false,
    "pycharm": {
     "name": "#%%\n"
    }
   }
  },
  {
   "cell_type": "code",
   "execution_count": 143,
   "outputs": [
    {
     "data": {
      "text/plain": "array([7], dtype=int64)"
     },
     "execution_count": 143,
     "metadata": {},
     "output_type": "execute_result"
    }
   ],
   "source": [
    "s = \"tuesday march pm visitor cards review hi please each location where visitor cards make information control matches reality physical cards oms possession discrepancy must corrected appropriately recorded spreadsheet liaise oms each location questions please hesitate thanks\"\n",
    "\n",
    "teststr = vectorizer.transform([s])\n",
    "loadedModel.predict(teststr)"
   ],
   "metadata": {
    "collapsed": false,
    "pycharm": {
     "name": "#%%\n"
    }
   }
  },
  {
   "cell_type": "code",
   "execution_count": null,
   "outputs": [],
   "source": [],
   "metadata": {
    "collapsed": false,
    "pycharm": {
     "name": "#%%\n"
    }
   }
  }
 ],
 "metadata": {
  "kernelspec": {
   "display_name": "Python 3",
   "language": "python",
   "name": "python3"
  },
  "language_info": {
   "codemirror_mode": {
    "name": "ipython",
    "version": 2
   },
   "file_extension": ".py",
   "mimetype": "text/x-python",
   "name": "python",
   "nbconvert_exporter": "python",
   "pygments_lexer": "ipython2",
   "version": "2.7.6"
  }
 },
 "nbformat": 4,
 "nbformat_minor": 0
}